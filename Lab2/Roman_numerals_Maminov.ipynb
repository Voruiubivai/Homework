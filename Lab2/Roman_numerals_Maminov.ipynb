{
 "cells": [
  {
   "cell_type": "markdown",
   "metadata": {},
   "source": [
    "# Roman numerals"
   ]
  },
  {
   "cell_type": "markdown",
   "metadata": {},
   "source": [
    "## I. Перевод из римских в десятичные\n",
    "\n",
    "Создаётся словарь из римских и 10-чных знаков"
   ]
  },
  {
   "cell_type": "code",
   "execution_count": 1,
   "metadata": {
    "collapsed": true
   },
   "outputs": [],
   "source": [
    "d = {\"I\" : 1, \n",
    "           \"V\" : 5,\n",
    "           \"X\" : 10,\n",
    "           \"L\" : 50,\n",
    "           \"C\" : 100,\n",
    "           \"D\" : 500,\n",
    "           \"M\" : 1000}"
   ]
  },
  {
   "cell_type": "markdown",
   "metadata": {},
   "source": [
    "Перевод производится сопоставлением римских знаков и 10-ных, учитывая специальные случае, когда мы проверяем следующий символ и если он больше текущего, то прибавляем его и вычитаем текущий"
   ]
  },
  {
   "cell_type": "code",
   "execution_count": 2,
   "metadata": {
    "collapsed": true
   },
   "outputs": [],
   "source": [
    "def roman_to_decimal(s):\n",
    "    #from IPython.core.debugger import Tracer; Tracer()()\n",
    "    ss=0\n",
    "    r=0\n",
    "    for i in range(0,len(s)):\n",
    "        if r==d[s[i]]:\n",
    "            continue\n",
    "        if s[i] in d:\n",
    "            if i!=len(s)-1:\n",
    "                if d[s[i+1]]>d[s[i]]:\n",
    "                    r= d[s[i+1]]\n",
    "                    ss=ss+d[s[i+1]]- d[s[i]]  \n",
    "                else:\n",
    "                    ss=ss+d[s[i]]\n",
    "            else:\n",
    "                ss=ss+d[s[i]]  \n",
    "    return ss"
   ]
  },
  {
   "cell_type": "markdown",
   "metadata": {},
   "source": [
    "Проверка данных примеров и несколько своих\n"
   ]
  },
  {
   "cell_type": "code",
   "execution_count": 16,
   "metadata": {},
   "outputs": [
    {
     "name": "stdout",
     "output_type": "stream",
     "text": [
      "True\n",
      "9\n",
      "True\n",
      "11\n",
      "True\n",
      "1202\n",
      "True\n",
      "2018\n",
      "True\n",
      "49\n",
      "True\n",
      "1984\n",
      "True\n",
      "1828\n",
      "True\n",
      "3888\n"
     ]
    }
   ],
   "source": [
    "test_pairs = [(\"IX\", 9), (\"XI\", 11), (\"MCCII\", 1202), (\"MMXVIII\", 2018), (\"XLIX\", 49), (\"MCMLXXXIV\", 1984), (\"MDCCCXXVIII\", 1828), (\"MMMDCCCLXXXVIII\", 3888)]\n",
    "\n",
    "for rom, dec in test_pairs:\n",
    "    converted = roman_to_decimal(rom)\n",
    "    print(converted == dec)\n",
    "    print(converted)"
   ]
  },
  {
   "cell_type": "markdown",
   "metadata": {},
   "source": [
    "## II. Десятичные в римские\n"
   ]
  },
  {
   "cell_type": "markdown",
   "metadata": {},
   "source": [
    "Содаём список словарей из символов и основных 10-ных обозначений, которые наипростейшим способом поддаются переводу и логики перевода через деление"
   ]
  },
  {
   "cell_type": "code",
   "execution_count": 12,
   "metadata": {
    "collapsed": true
   },
   "outputs": [],
   "source": [
    "numerals = [\n",
    "        {'letter': 'M', 'value': 1000},\n",
    "        {'letter': 'CM', 'value': 900},\n",
    "        {'letter': 'D', 'value': 500},\n",
    "        {'letter': 'C', 'value': 100},\n",
    "        {'letter': 'XC', 'value': 90},\n",
    "        {'letter': 'L', 'value': 50},\n",
    "        {'letter': 'X', 'value': 10},\n",
    "        {'letter': 'IX', 'value': 9},\n",
    "        {'letter': 'V', 'value': 5},\n",
    "        {'letter': 'I', 'value': 1},\n",
    "    ]"
   ]
  },
  {
   "cell_type": "markdown",
   "metadata": {},
   "source": [
    "Перебираем все наши цифры из словаря, делим по очереди на каждое 10-ное представление римской цифры и получаем нужное нам кол-во римских цифр, которые и записываем\n",
    "В случае, если сложная римская цифра не подчиняется логике, что разница между следующей и текущими римскими цифрами в десятичном виде больше следущего числа, то есть следующей цифры нет в словаре, то её нужно добавить по алгоритму следующая цифра+текущая\n",
    "Так же стоит отметить, что некоторые числа не подчиняются логике \"следующая цифра+текущая\" и их легче добавить в словарь, но можно было бы отдельно сделать и для них алгоритм\n"
   ]
  },
  {
   "cell_type": "code",
   "execution_count": 23,
   "metadata": {
    "collapsed": true
   },
   "outputs": [],
   "source": [
    "def decimal_to_roman(number):\n",
    "    remainder = number\n",
    "    result = ''\n",
    "    factor=0\n",
    "    for numeral_index in range(len(numerals)):\n",
    "        numeral = numerals[numeral_index]\n",
    "        next_numeral = numerals[numeral_index + 1] if numeral_index + 1 < len(numerals) else None\n",
    "        from IPython.core.debugger import Tracer; Tracer()()\n",
    "        factor = remainder // numeral['value']\n",
    "        remainder -= factor * numeral['value']\n",
    "\n",
    "        if next_numeral:\n",
    "            numeral_difference = numeral['value'] - next_numeral['value']\n",
    "            if (remainder - numeral_difference >= 0) and (numeral_difference > next_numeral['value']):\n",
    "                result += next_numeral['letter'] + numeral['letter']\n",
    "                remainder -= numeral_difference\n",
    "\n",
    "        if factor > 0:\n",
    "            result += numeral['letter'] * factor\n",
    "    \n",
    "    return result"
   ]
  },
  {
   "cell_type": "markdown",
   "metadata": {},
   "source": [
    "Ещё одна проверка"
   ]
  },
  {
   "cell_type": "code",
   "execution_count": 22,
   "metadata": {},
   "outputs": [
    {
     "name": "stdout",
     "output_type": "stream",
     "text": [
      "True\n",
      "IX\n",
      "True\n",
      "XI\n",
      "True\n",
      "MCCII\n",
      "True\n",
      "MMXVIII\n",
      "True\n",
      "XLIX\n",
      "True\n",
      "MCMLXXXIV\n",
      "True\n",
      "MDCCCXXVIII\n",
      "True\n",
      "MMMDCCCLXXXVIII\n"
     ]
    }
   ],
   "source": [
    "test_pairs = [(\"IX\", 9), (\"XI\", 11), (\"MCCII\", 1202), (\"MMXVIII\", 2018), (\"XLIX\", 49), (\"MCMLXXXIV\", 1984), (\"MDCCCXXVIII\", 1828), (\"MMMDCCCLXXXVIII\", 3888)]\n",
    "\n",
    "for rom, dec in test_pairs:\n",
    "    converted = decimal_to_roman(dec)\n",
    "    print(converted == rom)\n",
    "    print(converted)"
   ]
  },
  {
   "cell_type": "code",
   "execution_count": null,
   "metadata": {
    "collapsed": true
   },
   "outputs": [],
   "source": []
  }
 ],
 "metadata": {
  "kernelspec": {
   "display_name": "Python 3",
   "language": "python",
   "name": "python3"
  },
  "language_info": {
   "codemirror_mode": {
    "name": "ipython",
    "version": 3
   },
   "file_extension": ".py",
   "mimetype": "text/x-python",
   "name": "python",
   "nbconvert_exporter": "python",
   "pygments_lexer": "ipython3",
   "version": "3.6.3"
  }
 },
 "nbformat": 4,
 "nbformat_minor": 2
}
