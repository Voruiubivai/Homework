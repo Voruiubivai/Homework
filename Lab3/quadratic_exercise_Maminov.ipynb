{
 "cells": [
  {
   "cell_type": "code",
   "execution_count": 25,
   "metadata": {
    "collapsed": true
   },
   "outputs": [],
   "source": [
    "import math\n",
    "import matplotlib.pyplot as plt\n",
    "import numpy as np\n",
    "from numpy.linalg import eig\n",
    "%matplotlib inline"
   ]
  },
  {
   "cell_type": "markdown",
   "metadata": {},
   "source": [
    "## Solve a quadratic equation, $x^2 + b x + c = 0$."
   ]
  },
  {
   "cell_type": "markdown",
   "metadata": {},
   "source": [
    "Решаем уравнение методом сопровождающе матрицы"
   ]
  },
  {
   "cell_type": "code",
   "execution_count": 26,
   "metadata": {
    "collapsed": true
   },
   "outputs": [],
   "source": [
    "def solve_quad(b, c):\n",
    "    \"\"\"Solve a quadratic equation, x**2 + bx + c = 0.\n",
    "    \n",
    "    Parameters\n",
    "    ----------\n",
    "    b, c : float\n",
    "       Coefficients\n",
    "       \n",
    "    Returns\n",
    "    -------\n",
    "    x1, x2 : float or complex\n",
    "       Roots.\n",
    "    \"\"\"\n",
    "    A = np.array([[-b, -c],\n",
    "    [1, 0]])\n",
    "    e, v = eig(A)\n",
    "    return e"
   ]
  },
  {
   "cell_type": "code",
   "execution_count": 27,
   "metadata": {
    "collapsed": true
   },
   "outputs": [],
   "source": [
    "def func(x,b,c):\n",
    "    return x**2+b*x+c"
   ]
  },
  {
   "cell_type": "code",
   "execution_count": 28,
   "metadata": {
    "collapsed": true
   },
   "outputs": [],
   "source": [
    "def func1(x,b,c):\n",
    "    return 2*x+b"
   ]
  },
  {
   "cell_type": "markdown",
   "metadata": {},
   "source": [
    "Однаитерационный метод Ньютона"
   ]
  },
  {
   "cell_type": "code",
   "execution_count": 36,
   "metadata": {
    "collapsed": true
   },
   "outputs": [],
   "source": [
    "def solve(x0,b,c, e=1e-12):\n",
    "    #from IPython.core.debugger import Tracer; Tracer()()\n",
    "    n_iter=0\n",
    "    x_cur=x0\n",
    "    x_next=x_cur\n",
    "    if func1(x_cur,b,c)!=0:\n",
    "        x_next=x_cur-(func(x_cur, b, c)/func1(x_cur,b,c))\n",
    "    x_cur=x_next\n",
    "    return x_cur"
   ]
  },
  {
   "cell_type": "markdown",
   "metadata": {},
   "source": [
    "Test the function"
   ]
  },
  {
   "cell_type": "code",
   "execution_count": 30,
   "metadata": {
    "collapsed": true
   },
   "outputs": [],
   "source": [
    "variants = [{'b': 4.0, 'c': 3.0},\n",
    "            {'b': 2.0, 'c': 1.0},\n",
    "            {'b': 0.5, 'c': 4.0},\n",
    "            {'b': 1e10, 'c': 3.0},\n",
    "            {'b': -1e10, 'c': 4.0}]"
   ]
  },
  {
   "cell_type": "markdown",
   "metadata": {},
   "source": [
    "Для последних двух коэффициентов находятся не совсем точные ответы, что связано с машинным эпсилоном, который даёт погрешность при вычислении, полировка методом Ньютона так же не даст результатов, т.к. деление значения функции в точках, которые были определены как нули на производную от этих точек даст крайне маленькое значение(-3e-10) и при вычитании этого значения из 1e10 и -1e10 соответственно для 4 и 5 примеров машина потеряет это значение и не приблизит нас к реальному нулю"
   ]
  },
  {
   "cell_type": "code",
   "execution_count": 38,
   "metadata": {},
   "outputs": [
    {
     "name": "stdout",
     "output_type": "stream",
     "text": [
      "Найденные корни методом сопровождающей матрицы: -3.0 -1.0\n",
      "Корни после метода Ньютона -3.0 -1.0\n",
      "True\n",
      "Найденные корни методом сопровождающей матрицы: -1.0 -1.0\n",
      "Корни после метода Ньютона -1.0 -1.0\n",
      "True\n",
      "Найденные корни методом сопровождающей матрицы: (-0.25+1.9843134833j) (-0.25-1.9843134833j)\n",
      "Корни после метода Ньютона (-0.25+1.9843134833j) (-0.25-1.9843134833j)\n",
      "True\n",
      "Найденные корни методом сопровождающей матрицы: -10000000000.0 -3e-10\n",
      "Корни после метода Ньютона -10000000000.0 -3e-10\n",
      "True\n",
      "Найденные корни методом сопровождающей матрицы: 10000000000.0 4e-10\n",
      "Корни после метода Ньютона 10000000000.0 4e-10\n",
      "True\n"
     ]
    }
   ],
   "source": [
    "for var in variants:\n",
    "    x1, x2 = solve_quad(**var)\n",
    "    print(\"Найденные корни методом сопровождающей матрицы:\",x1,x2)\n",
    "    x_new1=solve(x1,**var)\n",
    "    x_new2=solve(x2,**var)\n",
    "    print(\"Корни после метода Ньютона\",x_new1, x_new2)\n",
    "    print(np.allclose(x1*x2, var['c']))"
   ]
  },
  {
   "cell_type": "markdown",
   "metadata": {},
   "source": [
    "Подставим наши корни в уравнение и посмотрим, насколько правилно они посчитаны реально"
   ]
  },
  {
   "cell_type": "code",
   "execution_count": 40,
   "metadata": {},
   "outputs": [
    {
     "name": "stdout",
     "output_type": "stream",
     "text": [
      "Значения функции в найденных точках 0.0 0.0\n",
      "Значения функции в найденных точках 0.0 0.0\n",
      "Значения функции в найденных точках 0j 0j\n",
      "Значения функции в найденных точках 3.0 0.0\n",
      "Значения функции в найденных точках 4.0 0.0\n"
     ]
    }
   ],
   "source": [
    "for i in range(len(variants)):\n",
    "    x1, x2 = solve_quad(**variants[i])\n",
    "    print(\"Значения функции в найденных точках\",func(x1,variants[i]['b'],variants[i]['c']),func(x2,variants[i]['b'],variants[i]['c']))"
   ]
  }
 ],
 "metadata": {
  "kernelspec": {
   "display_name": "Python 3",
   "language": "python",
   "name": "python3"
  },
  "language_info": {
   "codemirror_mode": {
    "name": "ipython",
    "version": 3
   },
   "file_extension": ".py",
   "mimetype": "text/x-python",
   "name": "python",
   "nbconvert_exporter": "python",
   "pygments_lexer": "ipython3",
   "version": "3.6.3"
  }
 },
 "nbformat": 4,
 "nbformat_minor": 2
}
