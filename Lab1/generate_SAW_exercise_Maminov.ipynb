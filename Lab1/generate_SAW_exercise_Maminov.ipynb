{
 "cells": [
  {
   "cell_type": "markdown",
   "metadata": {},
   "source": [
    "# I. Generate all lattice walks, 2D square lattice"
   ]
  },
  {
   "cell_type": "code",
   "execution_count": 1,
   "metadata": {
    "collapsed": true
   },
   "outputs": [],
   "source": [
    "import math\n",
    "import matplotlib.pyplot as plt\n",
    "import numpy as np\n",
    "%matplotlib inline"
   ]
  },
  {
   "cell_type": "markdown",
   "metadata": {},
   "source": [
    "Генерируются все возможные цепочки с повторениями "
   ]
  },
  {
   "cell_type": "code",
   "execution_count": 2,
   "metadata": {
    "collapsed": true
   },
   "outputs": [],
   "source": [
    "steps = [(1, 0), (-1, 0), (0, 1), (0, -1)]\n",
    "\n",
    "def generate_walks2(path, L, cache):\n",
    "    if L == 0:\n",
    "        cache.append(path)\n",
    "    else:\n",
    "        for dx, dy in steps:\n",
    "            x, y = path[-1]\n",
    "            xy_new = (x + dx, y + dy)\n",
    "            pp = path.copy()\n",
    "            pp.append(xy_new)\n",
    "            generate_walks2(pp, L - 1, cache)"
   ]
  },
  {
   "cell_type": "markdown",
   "metadata": {},
   "source": [
    "## Task 0\n",
    "\n",
    "Функции для рассчёта средней длины и координат вектора"
   ]
  },
  {
   "cell_type": "code",
   "execution_count": 9,
   "metadata": {
    "collapsed": true
   },
   "outputs": [],
   "source": [
    "def calc(cache):\n",
    "    dd=0\n",
    "    for i in range(0, len(cache)):\n",
    "        dd+=math.sqrt(((cache[i][0][0])-(cache[i][-1][0]))**2+((cache[i][0][1])-(cache[i][-1][1]))**2)\n",
    "    return dd/len(cache)"
   ]
  },
  {
   "cell_type": "code",
   "execution_count": 4,
   "metadata": {
    "collapsed": true
   },
   "outputs": [],
   "source": [
    "def coord(cache):\n",
    "    dd=0\n",
    "    x=0\n",
    "    y=0\n",
    "    for i in range(0, len(cache)):\n",
    "        x+=cache[i][0][0]-cache[i][-1][0] \n",
    "        y+=cache[i][0][1] - cache[i][-1][1]        \n",
    "    return (x/len(cache),y/len(cache))#(0-xy[0],0-xy[1])"
   ]
  },
  {
   "cell_type": "markdown",
   "metadata": {},
   "source": [
    "# I. Generate all SAWs on a 2D square lattice\n",
    "\n",
    "Генерируются все возможные цепочки без повторений"
   ]
  },
  {
   "cell_type": "code",
   "execution_count": 5,
   "metadata": {
    "collapsed": true
   },
   "outputs": [],
   "source": [
    "def generate_SAWs(path, L, cache):\n",
    "    #from IPython.core.debugger import Tracer; Tracer()() \n",
    "    if L == 0:\n",
    "        cache.append(path)\n",
    "    else:\n",
    "        for dx, dy in steps:\n",
    "            x, y = path[-1]\n",
    "            xy_new = (x + dx, y + dy)\n",
    "            pp = path.copy()\n",
    "            if pp.count(xy_new)<1:\n",
    "                pp.append(xy_new)\n",
    "                generate_SAWs(pp, L - 1, cache)"
   ]
  },
  {
   "cell_type": "markdown",
   "metadata": {},
   "source": [
    "Выводим всю нужную информацию по обоим вариантам цепочек"
   ]
  },
  {
   "cell_type": "code",
   "execution_count": 10,
   "metadata": {},
   "outputs": [
    {
     "name": "stdout",
     "output_type": "stream",
     "text": [
      "Для цепочек с повторениями\n",
      "Средние координаты вектора: (0.0, 0.0), его средняя длина 1.0, длина блуждания 1 и кол-во блужданий 4\n",
      "Средние координаты вектора: (0.0, 0.0), его средняя длина 1.2071067811865477, длина блуждания 2 и кол-во блужданий 16\n",
      "Средние координаты вектора: (0.0, 0.0), его средняя длина 1.5885254915624203, длина блуждания 3 и кол-во блужданий 64\n",
      "Средние координаты вектора: (0.0, 0.0), его средняя длина 1.7532798363559174, длина блуждания 4 и кол-во блужданий 256\n",
      "Средние координаты вектора: (0.0, 0.0), его средняя длина 2.0193315606071582, длина блуждания 5 и кол-во блужданий 1024\n",
      "Средние координаты вектора: (0.0, 0.0), его средняя длина 2.1612211221359865, длина блуждания 6 и кол-во блужданий 4096\n",
      "Средние координаты вектора: (0.0, 0.0), его средняя длина 2.374821460732043, длина блуждания 7 и кол-во блужданий 16384\n",
      "Средние координаты вектора: (0.0, 0.0), его средняя длина 2.5017070926792733, длина блуждания 8 и кол-во блужданий 65536\n",
      "Средние координаты вектора: (0.0, 0.0), его средняя длина 2.6842200373912326, длина блуждания 9 и кол-во блужданий 262144\n"
     ]
    }
   ],
   "source": [
    "m=10\n",
    "print(\"Для цепочек с повторениями\")\n",
    "Y1=np.zeros(m-1)\n",
    "for l in range(1,m):\n",
    "    cache = []\n",
    "    generate_walks2([(0, 0)], l, cache)\n",
    "    leng=calc(cache)\n",
    "    Y1[l-1]=leng\n",
    "    cor=coord(cache)\n",
    "    print(f\"Средние координаты вектора: {cor}, его средняя длина {leng}, длина блуждания {l} и кол-во блужданий {len(cache)}\")"
   ]
  },
  {
   "cell_type": "code",
   "execution_count": 11,
   "metadata": {
    "scrolled": true
   },
   "outputs": [
    {
     "name": "stdout",
     "output_type": "stream",
     "text": [
      "Для цепочек без повторений\n",
      "Средние координаты вектора: (0.0, 0.0), его средняя длина 1.0, длина блуждания 1 и кол-во блужданий 4\n",
      "Средние координаты вектора: (0.0, 0.0), его средняя длина 1.6094757082487303, длина блуждания 2 и кол-во блужданий 12\n",
      "Средние координаты вектора: (0.0, 0.0), его средняя длина 2.046267540555414, длина блуждания 3 и кол-во блужданий 36\n",
      "Средние координаты вектора: (0.0, 0.0), его средняя длина 2.5570255311726613, длина блуждания 4 и кол-во блужданий 100\n",
      "Средние координаты вектора: (0.0, 0.0), его средняя длина 2.9512053136683383, длина блуждания 5 и кол-во блужданий 284\n",
      "Средние координаты вектора: (0.0, 0.0), его средняя длина 3.3905293993647274, длина блуждания 6 и кол-во блужданий 780\n",
      "Средние координаты вектора: (0.0, 0.0), его средняя длина 3.7476893934881423, длина блуждания 7 и кол-во блужданий 2172\n",
      "Средние координаты вектора: (0.0, 0.0), его средняя длина 4.149885562855251, длина блуждания 8 и кол-во блужданий 5916\n",
      "Средние координаты вектора: (0.0, 0.0), его средняя длина 4.487146601788904, длина блуждания 9 и кол-во блужданий 16268\n"
     ]
    }
   ],
   "source": [
    "print(\"Для цепочек без повторений\")\n",
    "Y=np.zeros(m-1)\n",
    "for l in range(1,m):\n",
    "    cache = []\n",
    "    generate_SAWs([(0, 0)], l, cache)\n",
    "    leng=calc(cache)\n",
    "    Y[l-1]=leng\n",
    "    cor=coord(cache)\n",
    "    print(f\"Средние координаты вектора: {cor}, его средняя длина {leng}, длина блуждания {l} и кол-во блужданий {len(cache)}\")"
   ]
  },
  {
   "cell_type": "markdown",
   "metadata": {},
   "source": [
    "Строим графики зависимости средней длины от кол-ва шагов"
   ]
  },
  {
   "cell_type": "code",
   "execution_count": 12,
   "metadata": {},
   "outputs": [
    {
     "data": {
      "text/plain": [
       "<matplotlib.legend.Legend at 0x8ad9cc0>"
      ]
     },
     "execution_count": 12,
     "metadata": {},
     "output_type": "execute_result"
    },
    {
     "data": {
      "image/png": "[encoded data removed]",
      "text/plain": [
       "<matplotlib.figure.Figure at 0x8f36e80>"
      ]
     },
     "metadata": {},
     "output_type": "display_data"
    }
   ],
   "source": [
    "X=np.arange(1,10)\n",
    "plt.plot(X,Y, label = 'Цепочка без повторений')\n",
    "plt.plot(X,Y1, label = 'Цепочка с повторениями')\n",
    "plt.xlabel(\"Кол-во шагов\")\n",
    "plt.ylabel(\"Средняя длина\")\n",
    "plt.legend()"
   ]
  },
  {
   "cell_type": "code",
   "execution_count": null,
   "metadata": {
    "collapsed": true
   },
   "outputs": [],
   "source": []
  }
 ],
 "metadata": {
  "kernelspec": {
   "display_name": "Python 3",
   "language": "python",
   "name": "python3"
  },
  "language_info": {
   "codemirror_mode": {
    "name": "ipython",
    "version": 3
   },
   "file_extension": ".py",
   "mimetype": "text/x-python",
   "name": "python",
   "nbconvert_exporter": "python",
   "pygments_lexer": "ipython3",
   "version": "3.6.3"
  }
 },
 "nbformat": 4,
 "nbformat_minor": 2
}
